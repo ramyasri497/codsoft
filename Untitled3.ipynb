{
  "nbformat": 4,
  "nbformat_minor": 0,
  "metadata": {
    "colab": {
      "provenance": [],
      "authorship_tag": "ABX9TyMakAIjg6yp8A/DpHYwbbre",
      "include_colab_link": true
    },
    "kernelspec": {
      "name": "python3",
      "display_name": "Python 3"
    },
    "language_info": {
      "name": "python"
    }
  },
  "cells": [
    {
      "cell_type": "markdown",
      "metadata": {
        "id": "view-in-github",
        "colab_type": "text"
      },
      "source": [
        "<a href=\"https://colab.research.google.com/github/ramyasri497/codsoft/blob/main/Untitled3.ipynb\" target=\"_parent\"><img src=\"https://colab.research.google.com/assets/colab-badge.svg\" alt=\"Open In Colab\"/></a>"
      ]
    },
    {
      "cell_type": "code",
      "execution_count": 2,
      "metadata": {
        "colab": {
          "base_uri": "https://localhost:8080/"
        },
        "id": "BinhuUYniUup",
        "outputId": "420b3171-15c4-4adb-956a-17c58f3475eb"
      },
      "outputs": [
        {
          "output_type": "stream",
          "name": "stdout",
          "text": [
            "Mean Squared Error: 0.05\n",
            "R² Score: 0.18\n",
            "MAE: 0.18462499999999976\n",
            "MSE: 0.05301710499999992\n",
            "RMSE: 0.2302544353535886\n",
            "R² Score: 0.1762925703809597\n",
            "                                Movie Name  Predicted Rating\n",
            "0  Harry Potter and the Prsoner of Azkaban             8.173\n",
            "1                       The Asphalt Jungle             7.937\n",
            "2                                  Gaslght             7.950\n",
            "3                                 The Fall             7.875\n",
            "4                                  Ran Man             8.258\n",
            "5                        Jont Securty Area             7.957\n",
            "6                           The Best Offer             7.876\n",
            "7                                    3-ron             7.768\n",
            "8                                    Naked             8.009\n",
            "9                               Ctzen Kane             8.225\n"
          ]
        }
      ],
      "source": [
        "#Importing libraries\n",
        "import pandas as pd\n",
        "from sklearn.model_selection import train_test_split\n",
        "from sklearn.preprocessing import LabelEncoder\n",
        "from sklearn.ensemble import RandomForestRegressor\n",
        "from sklearn.metrics import mean_squared_error, r2_score, mean_absolute_error\n",
        "import numpy as np\n",
        "from sklearn.impute import SimpleImputer\n",
        "\n",
        "# Loading the dataset\n",
        "df = pd.read_csv('imdb.csv')  # Replace with your actual filename\n",
        "\n",
        "# Storing movie names for final output\n",
        "movie_names_all = df['Movie_name']\n",
        "\n",
        "# Drop unnecessary columns\n",
        "df = df.drop(columns=['Rank', 'Movie_name'])\n",
        "\n",
        "# Handling missing values.\n",
        "# Converting Metascore and Gross to numeric.\n",
        "df['Metascore'] = pd.to_numeric(df['Metascore'], errors='coerce')\n",
        "df['Gross_n_$_M'] = pd.to_numeric(df['Gross_n_$_M'], errors='coerce')\n",
        "\n",
        "# Imputing missing numerical values with median\n",
        "num_cols = ['Metascore', 'Gross_n_$_M', 'Runtime_n_mn']\n",
        "imputer = SimpleImputer(strategy='median')\n",
        "df[num_cols] = imputer.fit_transform(df[num_cols])\n",
        "\n",
        "\n",
        "# Encoding categorical variables\n",
        "le_certificate = LabelEncoder()\n",
        "df['Certificate'] = le_certificate.fit_transform(df['Certificate'].astype(str))\n",
        "\n",
        "# Simplifying Genre: using the first listed genre\n",
        "df['Genre'] = df['Genre'].astype(str).apply(lambda x: x.split(',')[0])\n",
        "le_genre = LabelEncoder()\n",
        "df['Genre'] = le_genre.fit_transform(df['Genre'])\n",
        "\n",
        "# Defining features and target\n",
        "X = df.drop(columns=['Rating_from_10'])\n",
        "y = df['Rating_from_10']\n",
        "\n",
        "# Train-test split\n",
        "X_train, X_test, y_train, y_test = train_test_split(X, y, test_size=0.2, random_state=42)\n",
        "\n",
        "movie_names_test = movie_names_all.iloc[X_test.index]\n",
        "\n",
        "# Train model\n",
        "model = RandomForestRegressor(n_estimators=100, random_state=42)\n",
        "model.fit(X_train, y_train)\n",
        "\n",
        "# Predict and evaluate\n",
        "y_pred = model.predict(X_test)\n",
        "mse = mean_squared_error(y_test, y_pred)\n",
        "r2 = r2_score(y_test, y_pred)\n",
        "\n",
        "print(f\"Mean Squared Error: {mse:.2f}\")\n",
        "print(f\"R² Score: {r2:.2f}\")\n",
        "print(\"MAE:\", mean_absolute_error(y_test, y_pred))\n",
        "print(\"MSE:\", mean_squared_error(y_test, y_pred))\n",
        "print(\"RMSE:\", np.sqrt(mean_squared_error(y_test, y_pred)))\n",
        "print(\"R² Score:\", r2_score(y_test, y_pred))\n",
        "\n",
        "# Create result DataFrame\n",
        "results_df = pd.DataFrame({\n",
        "    'Movie Name': movie_names_test.values,\n",
        "    'Predicted Rating': y_pred\n",
        "})\n",
        "\n",
        "# Show top results\n",
        "print(results_df.head(10))"
      ]
    }
  ]
}