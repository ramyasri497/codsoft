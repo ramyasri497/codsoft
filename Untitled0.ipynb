{
  "nbformat": 4,
  "nbformat_minor": 0,
  "metadata": {
    "colab": {
      "provenance": [],
      "authorship_tag": "ABX9TyOzvQSnq70nPqASIh9tgk/Z",
      "include_colab_link": true
    },
    "kernelspec": {
      "name": "python3",
      "display_name": "Python 3"
    },
    "language_info": {
      "name": "python"
    }
  },
  "cells": [
    {
      "cell_type": "markdown",
      "metadata": {
        "id": "view-in-github",
        "colab_type": "text"
      },
      "source": [
        "<a href=\"https://colab.research.google.com/github/ramyasri497/codsoft/blob/main/Untitled0.ipynb\" target=\"_parent\"><img src=\"https://colab.research.google.com/assets/colab-badge.svg\" alt=\"Open In Colab\"/></a>"
      ]
    },
    {
      "cell_type": "code",
      "source": [
        "import pandas as pd\n",
        "import numpy as np\n",
        "from scipy import stats\n",
        "#create a sample dataset\n",
        "data=[12,15,12,18,20,25,30,25,30,35,40,45,50,50,50]\n",
        "#convert to a pandas series for convenience\n",
        "series=pd.Series(data) # Changed 'pd.series' to 'pd.Series'\n",
        "#1.Mean\n",
        "mean=series.mean()\n",
        "print(\"Mean:\",mean)\n",
        "#2.Medain\n",
        "median=series.median()\n",
        "print(\"Median:\",median)\n",
        "#3.Mode\n",
        "mode=series.mode()\n",
        "print(\"Mode:\",mode)"
      ],
      "metadata": {
        "colab": {
          "base_uri": "https://localhost:8080/"
        },
        "id": "_c79Ae13UD3g",
        "outputId": "63ba1ee2-516d-4dde-d82e-1a3bc6e26be5"
      },
      "execution_count": null,
      "outputs": [
        {
          "output_type": "stream",
          "name": "stdout",
          "text": [
            "Mean: 30.466666666666665\n",
            "Median: 30.0\n",
            "Mode: 0    50\n",
            "dtype: int64\n"
          ]
        }
      ]
    },
    {
      "cell_type": "code",
      "source": [
        "import pandas as pd\n",
        "import numpy as np\n",
        "from scipy.stats import skew,kurtosis\n",
        "#sample dataset\n",
        "data=[12,15,12,18,20,25,30,25,30,35,40,45,50,50,50]\n",
        "#convert to a pandas series for convenience\n",
        "series=pd.Series(data)\n",
        "#compute variance\n",
        "variance= series.var() # Changed 'Series' to 'series'\n",
        "#compute standard deviation\n",
        "std_dev=series.std() # Changed 'Series' to 'series'\n",
        "#compute skewness\n",
        "data_skewness=skew(series)\n",
        "#compute kurtosis\n",
        "data_kurtosis=kurtosis(series)\n",
        "#output results\n",
        "print(f\"variance:{variance}\")\n",
        "print(f\"standard deviation:{std_dev}\")\n",
        "print(f\"skewness:{data_skewness}\")\n",
        "print(f\"kurtosis:{data_kurtosis}\")"
      ],
      "metadata": {
        "colab": {
          "base_uri": "https://localhost:8080/"
        },
        "id": "rgt28Kf3XMBa",
        "outputId": "908296fc-343a-48d1-fe35-ce523d7783ee"
      },
      "execution_count": null,
      "outputs": [
        {
          "output_type": "stream",
          "name": "stdout",
          "text": [
            "variance:193.8380952380953\n",
            "standard deviation:13.922575021816018\n",
            "skewness:0.1830701440104485\n",
            "kurtosis:-1.3342868669656005\n"
          ]
        }
      ]
    }
  ]
}